{
 "cells": [
  {
   "cell_type": "code",
   "execution_count": 5,
   "id": "4c0aba5a",
   "metadata": {},
   "outputs": [
    {
     "name": "stdout",
     "output_type": "stream",
     "text": [
      "3\n"
     ]
    }
   ],
   "source": [
    "Colour={'Blue','Green', 'Yellow'}\n",
    "print(len(Colour))"
   ]
  },
  {
   "cell_type": "code",
   "execution_count": null,
   "id": "6d6ca40e",
   "metadata": {},
   "outputs": [],
   "source": [
    "Arithmetic Operator(=,-,*,/,%)\n",
    "Assignment Operator(=,+=,)\n",
    "Logical Operator(And,Or,Not)\n",
    "Comparison Operator(>,<,==,<=,>=)"
   ]
  },
  {
   "cell_type": "code",
   "execution_count": 6,
   "id": "8a9e6cbe",
   "metadata": {},
   "outputs": [
    {
     "name": "stdout",
     "output_type": "stream",
     "text": [
      "True\n"
     ]
    }
   ],
   "source": [
    "print(100<=500)"
   ]
  },
  {
   "cell_type": "code",
   "execution_count": 7,
   "id": "9b6dba8c",
   "metadata": {},
   "outputs": [
    {
     "data": {
      "text/plain": [
       "False"
      ]
     },
     "execution_count": 7,
     "metadata": {},
     "output_type": "execute_result"
    }
   ],
   "source": [
    "(200>100)and (50>150)"
   ]
  },
  {
   "cell_type": "code",
   "execution_count": 8,
   "id": "7445002a",
   "metadata": {},
   "outputs": [
    {
     "data": {
      "text/plain": [
       "True"
      ]
     },
     "execution_count": 8,
     "metadata": {},
     "output_type": "execute_result"
    }
   ],
   "source": [
    "(200>100)and (50>15)"
   ]
  },
  {
   "cell_type": "code",
   "execution_count": 9,
   "id": "fc983a7f",
   "metadata": {},
   "outputs": [
    {
     "data": {
      "text/plain": [
       "False"
      ]
     },
     "execution_count": 9,
     "metadata": {},
     "output_type": "execute_result"
    }
   ],
   "source": [
    "(56==90)and (50==15)"
   ]
  },
  {
   "cell_type": "code",
   "execution_count": 13,
   "id": "150fea56",
   "metadata": {},
   "outputs": [
    {
     "name": "stdout",
     "output_type": "stream",
     "text": [
      "b is bigger than a\n"
     ]
    }
   ],
   "source": [
    "a=200\n",
    "b=500\n",
    "if b>a:\n",
    "    print('b is bigger than a')"
   ]
  },
  {
   "cell_type": "code",
   "execution_count": 17,
   "id": "7b8c4098",
   "metadata": {},
   "outputs": [
    {
     "name": "stdout",
     "output_type": "stream",
     "text": [
      "num is smaller than 10\n"
     ]
    }
   ],
   "source": [
    "num=5\n",
    "if(num<10):\n",
    "    print('num is smaller than 10')"
   ]
  },
  {
   "cell_type": "code",
   "execution_count": 18,
   "id": "a86c93d6",
   "metadata": {},
   "outputs": [
    {
     "name": "stdout",
     "output_type": "stream",
     "text": [
      "Bad\n"
     ]
    }
   ],
   "source": [
    "if 4>8:\n",
    "    print('Good')\n",
    "else:\n",
    "    print('Bad')"
   ]
  },
  {
   "cell_type": "code",
   "execution_count": 24,
   "id": "34788e18",
   "metadata": {},
   "outputs": [
    {
     "data": {
      "text/plain": [
       "True"
      ]
     },
     "execution_count": 24,
     "metadata": {},
     "output_type": "execute_result"
    }
   ],
   "source": [
    "(2==2)or (1==2)"
   ]
  },
  {
   "cell_type": "code",
   "execution_count": null,
   "id": "3d58b18b",
   "metadata": {},
   "outputs": [],
   "source": [
    "#Conditions\n",
    "one condition (if),\n",
    "Two condition (if and else), \n",
    "More than two condition (if,else, elife)"
   ]
  },
  {
   "cell_type": "code",
   "execution_count": 26,
   "id": "8591d129",
   "metadata": {},
   "outputs": [
    {
     "name": "stdout",
     "output_type": "stream",
     "text": [
      "a is bigger than a\n"
     ]
    }
   ],
   "source": [
    "a= 200\n",
    "b=33\n",
    "if a>b:\n",
    "    print('a is bigger than a')\n",
    "else:\n",
    "    print('a is not bigger than a')"
   ]
  },
  {
   "cell_type": "code",
   "execution_count": 32,
   "id": "fd75f6d5",
   "metadata": {},
   "outputs": [
    {
     "name": "stdout",
     "output_type": "stream",
     "text": [
      "b is not bigger than a\n"
     ]
    }
   ],
   "source": [
    "a= 200\n",
    "b=33\n",
    "if b>a:\n",
    "    print('b is bigger than a')\n",
    "elif a==b:\n",
    "    print('a and b are par')\n",
    "else:\n",
    "    print('b is not bigger than a')"
   ]
  },
  {
   "cell_type": "code",
   "execution_count": 34,
   "id": "7435455d",
   "metadata": {},
   "outputs": [],
   "source": [
    "a= 200\n",
    "b=33\n",
    "c=50\n",
    "if b > a or c > a :\n",
    "    print('both condition are correct')"
   ]
  },
  {
   "cell_type": "code",
   "execution_count": null,
   "id": "543e7a79",
   "metadata": {},
   "outputs": [],
   "source": [
    "#Nested if"
   ]
  },
  {
   "cell_type": "code",
   "execution_count": 47,
   "id": "159dd067",
   "metadata": {},
   "outputs": [
    {
     "name": "stdout",
     "output_type": "stream",
     "text": [
      "above ten,\n",
      "is 50\n"
     ]
    }
   ],
   "source": [
    "y = 50\n",
    "if y > 10:\n",
    "    print('above ten,')\n",
    "    if y >= 50:    \n",
    "        print('is 50')\n",
    "    else:\n",
    "        print('not above 50')"
   ]
  },
  {
   "cell_type": "code",
   "execution_count": 44,
   "id": "2f55d3c3",
   "metadata": {},
   "outputs": [
    {
     "name": "stdout",
     "output_type": "stream",
     "text": [
      "above ten,\n",
      "not above 50\n"
     ]
    }
   ],
   "source": [
    "y = 41\n",
    "if y > 10:\n",
    "    print('above ten,')\n",
    "    if y > 50:    \n",
    "        print('and also above 50')\n",
    "    else:\n",
    "        print('not above 50')"
   ]
  },
  {
   "cell_type": "code",
   "execution_count": null,
   "id": "5550a387",
   "metadata": {},
   "outputs": [],
   "source": []
  }
 ],
 "metadata": {
  "kernelspec": {
   "display_name": "Python 3 (ipykernel)",
   "language": "python",
   "name": "python3"
  },
  "language_info": {
   "codemirror_mode": {
    "name": "ipython",
    "version": 3
   },
   "file_extension": ".py",
   "mimetype": "text/x-python",
   "name": "python",
   "nbconvert_exporter": "python",
   "pygments_lexer": "ipython3",
   "version": "3.9.12"
  }
 },
 "nbformat": 4,
 "nbformat_minor": 5
}
